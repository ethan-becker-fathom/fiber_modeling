{
 "cells": [
  {
   "cell_type": "code",
   "execution_count": 1,
   "outputs": [],
   "source": [
    "import numpy as np"
   ],
   "metadata": {
    "collapsed": false
   }
  },
  {
   "cell_type": "code",
   "execution_count": 4,
   "outputs": [],
   "source": [
    "wavelength_nm=850"
   ],
   "metadata": {
    "collapsed": false
   }
  },
  {
   "cell_type": "code",
   "execution_count": 6,
   "outputs": [
    {
     "data": {
      "text/plain": "1.4524982860552091"
     },
     "execution_count": 6,
     "metadata": {},
     "output_type": "execute_result"
    }
   ],
   "source": [
    "Sellmeier_B = np.array([0.6961663, 0.4079426, 0.8974794])\n",
    "Sellmeier_C = np.array([0.0684043 ** 2, 0.1162414 ** 2, 9.896161 ** 2])\n",
    "\n",
    "wavelength_mu = wavelength_nm / 1000\n",
    "\n",
    "nhelp = 1\n",
    "for idx, ival in enumerate(Sellmeier_B):\n",
    "    nhelp += Sellmeier_B[idx] * wavelength_mu ** 2 / (wavelength_mu ** 2 - Sellmeier_C[idx])\n",
    "n = np.sqrt(nhelp)\n",
    "\n",
    "n"
   ],
   "metadata": {
    "collapsed": false
   }
  },
  {
   "cell_type": "code",
   "execution_count": 19,
   "outputs": [
    {
     "data": {
      "text/plain": "1.4524982860552091"
     },
     "execution_count": 19,
     "metadata": {},
     "output_type": "execute_result"
    }
   ],
   "source": [
    "Sellmeier_B = np.array([0.6961663, 0.4079426, 0.8974794])\n",
    "Sellmeier_C = np.array([0.0684043, 0.1162414, 9.896161])\n",
    "\n",
    "wavelength_mu = wavelength_nm / 1000\n",
    "\n",
    "r = np.sqrt(((Sellmeier_B * np.square(wavelength_mu)) / (np.square(wavelength_mu) - np.square(Sellmeier_C))).sum() + 1)\n",
    "\n",
    "r"
   ],
   "metadata": {
    "collapsed": false
   }
  },
  {
   "cell_type": "code",
   "execution_count": 25,
   "outputs": [],
   "source": [
    "\n",
    "import Lumerical_Analysis"
   ],
   "metadata": {
    "collapsed": false
   }
  },
  {
   "cell_type": "code",
   "execution_count": null,
   "outputs": [],
   "source": [],
   "metadata": {
    "collapsed": false
   }
  }
 ],
 "metadata": {
  "kernelspec": {
   "display_name": "Python 3",
   "language": "python",
   "name": "python3"
  },
  "language_info": {
   "codemirror_mode": {
    "name": "ipython",
    "version": 2
   },
   "file_extension": ".py",
   "mimetype": "text/x-python",
   "name": "python",
   "nbconvert_exporter": "python",
   "pygments_lexer": "ipython2",
   "version": "2.7.6"
  }
 },
 "nbformat": 4,
 "nbformat_minor": 0
}
